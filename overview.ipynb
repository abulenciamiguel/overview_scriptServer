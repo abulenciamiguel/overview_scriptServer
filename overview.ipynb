{
 "cells": [
  {
   "cell_type": "markdown",
   "metadata": {},
   "source": [
    "### Preparing the input files"
   ]
  },
  {
   "cell_type": "markdown",
   "metadata": {},
   "source": [
    "##### Input reads"
   ]
  },
  {
   "cell_type": "markdown",
   "metadata": {},
   "source": [
    "Raw files are found in `/Storage/RAW/SC2`.\n",
    "In the example below, the `parent directory` of `batch 98` is `14NOV2024_SC2_WGS_BATCH_98_CMR_JMG_SMT` with a sub-directory `no_sample_id` and subsequent sub-directory `20241114_1710_MN37014_FAW70366_b923bfb9` "
   ]
  },
  {
   "cell_type": "markdown",
   "metadata": {
    "vscode": {
     "languageId": "shellscript"
    }
   },
   "source": [
    "<img src=\"images/raw_directoryFiles.png\" alt=\"Alt Text\" width=\"400\">\n"
   ]
  },
  {
   "cell_type": "markdown",
   "metadata": {},
   "source": [
    "Create a new directory in `/Storage/PROCESSED/sc2/BDMU_1`"
   ]
  },
  {
   "cell_type": "code",
   "execution_count": null,
   "metadata": {
    "vscode": {
     "languageId": "shellscript"
    }
   },
   "outputs": [],
   "source": [
    "mkdir -p /Storage/PROCESSED/sc2/BDMU_1/14NOV2024_SC2_WGS_BATCH_98_CMR_JMG_SMT"
   ]
  },
  {
   "cell_type": "markdown",
   "metadata": {
    "vscode": {
     "languageId": "shellscript"
    }
   },
   "source": [
    "Transfer the `fastq_pass` directory and `final_summary_*.txt` file to the new directory. <br>\n",
    "The new directory should look like the following."
   ]
  },
  {
   "cell_type": "markdown",
   "metadata": {},
   "source": [
    "<img src=\"images/processed_directoryFiles.png\" alt=\"Alt Text\" width=\"400\">\n"
   ]
  },
  {
   "cell_type": "markdown",
   "metadata": {},
   "source": [
    "##### Barcode file"
   ]
  },
  {
   "cell_type": "markdown",
   "metadata": {
    "vscode": {
     "languageId": "shellscript"
    }
   },
   "source": [
    "Check `assets/sample_barcode.csv`"
   ]
  },
  {
   "cell_type": "markdown",
   "metadata": {},
   "source": [
    "| Header        | Description               | Required? |   Options  |\n",
    "|---------------|---------------------------|-----------|-----------|\n",
    "| ont_barcode   | assigned barcode of the sample to analyze | yes | check REDCap |\n",
    "| local_id      | assigned local ID (REDCap) of the sample to analyze | yes | check REDCap |\n",
    "| type          | whether a sample is a negative control or positive SC2 sample | yes | `positive` or `negative` |\n",
    "| central_id    | assigned central ID (REDCap) of the sample to analyze | yes | check REDCap |\n",
    "| repeat        | whether this is the first instance of sequencing for the sample or not        | yes | `yes` or `no` |"
   ]
  },
  {
   "cell_type": "markdown",
   "metadata": {},
   "source": [
    "### Location of the scripts"
   ]
  },
  {
   "cell_type": "markdown",
   "metadata": {},
   "source": [
    "Scripts are mirrored and may be edited in three different locations.\n",
    "\n",
    "<img src=\"images/scriptserver_mirroring.png\" alt=\"Alt Text\" width=\"400\">\n"
   ]
  },
  {
   "cell_type": "markdown",
   "metadata": {},
   "source": [
    "##### HPC user"
   ]
  },
  {
   "cell_type": "markdown",
   "metadata": {},
   "source": [
    "<img src=\"images/scriptserver_hpc.png\" alt=\"Alt Text\" width=\"400\">"
   ]
  },
  {
   "cell_type": "markdown",
   "metadata": {},
   "source": [
    "##### Container"
   ]
  },
  {
   "cell_type": "markdown",
   "metadata": {},
   "source": [
    "To get the container ID\n"
   ]
  },
  {
   "cell_type": "code",
   "execution_count": null,
   "metadata": {
    "vscode": {
     "languageId": "shellscript"
    }
   },
   "outputs": [],
   "source": [
    "docker ps | grep \"script-server\""
   ]
  },
  {
   "cell_type": "markdown",
   "metadata": {},
   "source": [
    "<img src=\"images/scriptserver_container.png\" alt=\"Alt Text\" width=\"400\">"
   ]
  },
  {
   "cell_type": "markdown",
   "metadata": {},
   "source": [
    "Execute container interactively"
   ]
  },
  {
   "cell_type": "code",
   "execution_count": null,
   "metadata": {
    "vscode": {
     "languageId": "shellscript"
    }
   },
   "outputs": [],
   "source": [
    "docker exec -it 3ac8a4cab15f /bin/bash"
   ]
  },
  {
   "cell_type": "markdown",
   "metadata": {},
   "source": [
    "<img src=\"images/scriptserver_container_scripts.png\" alt=\"Alt Text\" width=\"300\">"
   ]
  },
  {
   "cell_type": "markdown",
   "metadata": {},
   "source": [
    "##### Web browser"
   ]
  },
  {
   "cell_type": "markdown",
   "metadata": {},
   "source": [
    "<img src=\"images/scriptserver_browser.gif\" alt=\"Alt Text\" width=\"800\">"
   ]
  }
 ],
 "metadata": {
  "kernelspec": {
   "display_name": "Bash",
   "language": "bash",
   "name": "bash"
  },
  "language_info": {
   "codemirror_mode": "shell",
   "file_extension": ".sh",
   "mimetype": "text/x-sh",
   "name": "bash"
  }
 },
 "nbformat": 4,
 "nbformat_minor": 2
}
